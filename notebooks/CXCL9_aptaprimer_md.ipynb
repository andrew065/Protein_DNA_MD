{
 "cells": [
  {
   "cell_type": "code",
   "execution_count": null,
   "id": "0dd418bb",
   "metadata": {
    "vscode": {
     "languageId": "plaintext"
    }
   },
   "outputs": [],
   "source": [
    "1. Clean"
   ]
  },
  {
   "cell_type": "markdown",
   "id": "01a3a3e8",
   "metadata": {},
   "source": []
  }
 ],
 "metadata": {
  "language_info": {
   "name": "python"
  }
 },
 "nbformat": 4,
 "nbformat_minor": 5
}
